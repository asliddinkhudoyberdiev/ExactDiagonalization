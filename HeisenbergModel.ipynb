{
 "cells": [
  {
   "cell_type": "code",
   "execution_count": 51,
   "id": "269c9019",
   "metadata": {},
   "outputs": [],
   "source": [
    "# activation for openMP by setting the number of threads\n",
    "import os\n",
    "os.environ[\"OMP_NUM_THREADS\"] = \"8\"  # number of threads\n",
    "os.environ['MKL_NUM_THREADS'] = '4' # set number of MKL threads to run in parallel\n",
    "\n",
    "from quspin.operators import hamiltonian\n",
    "from quspin.basis import spin_basis_1d\n",
    "import numpy as np\n",
    "from scipy.sparse.linalg import eigsh  # Sparse eigenvalue solver\n",
    "\n",
    "import matplotlib.pyplot as plt\n"
   ]
  },
  {
   "cell_type": "code",
   "execution_count": 52,
   "id": "a5513137",
   "metadata": {},
   "outputs": [],
   "source": [
    "# Parameters\n",
    "n_x = 2  # lattice size in x \n",
    "n_y = 2  # lattice size in y\n",
    "J = 1.0  # coupling constant\n",
    "chi = 1.0 # anisotropy\n",
    "num_eigenvalues = 3 # number of eigenvalues that should be calculated (starting from the ground state)\n",
    "\n",
    "L = n_x * n_y  # total number of spins\n",
    "hz = 0.0\n",
    "hy = 0.0\n"
   ]
  },
  {
   "cell_type": "markdown",
   "id": "7052a098",
   "metadata": {},
   "source": [
    "# Create the lattice couplings"
   ]
  },
  {
   "cell_type": "code",
   "execution_count": 53,
   "id": "1f099958",
   "metadata": {},
   "outputs": [
    {
     "name": "stdout",
     "output_type": "stream",
     "text": [
      "[[1.0, 0, 1], [1.0, 0, 2], [1.0, 2, 3], [1.0, 1, 3]]\n"
     ]
    }
   ],
   "source": [
    "# Site index mapping with periodic boundary conditions\n",
    "def site(x, y):\n",
    "    return (x % n_x) + n_x * (y % n_y)\n",
    "\n",
    "# Generate all nearest-neighbor bonds without double-counting\n",
    "J_ij = []\n",
    "seen_bonds = set()  # use set to avoid douple counting\n",
    "\n",
    "for x in range(n_x):\n",
    "    for y in range(n_y):\n",
    "        i = site(x, y)\n",
    "        \n",
    "        # periodic boundary conditions\n",
    "        right = site(x+1, y)  # neighbor reight\n",
    "        up = site(x, y+1)     # upper neighbor\n",
    "        \n",
    "        bond_right = tuple(sorted((i, right)))  # sort the indices\n",
    "        bond_up = tuple(sorted((i, up)))\n",
    "\n",
    "        if bond_right not in seen_bonds:\n",
    "            J_ij.append([J, i, right])\n",
    "            seen_bonds.add(bond_right)\n",
    "\n",
    "        if bond_up not in seen_bonds:\n",
    "            J_ij.append([J, i, up])\n",
    "            seen_bonds.add(bond_up)\n",
    "\n",
    "print(J_ij)\n",
    "\n",
    "# 4x4 lattice with PBC\n",
    "# J_ij = [[1.0, 0, 1], [1.0, 0, 4], [1.0, 4, 5], [1.0, 4, 8], [1.0, 8, 9], [1.0, 8, 12], [1.0, 12, 13], [1.0, 12, 0], \n",
    "#     [1.0, 1, 2], [1.0, 1, 5], [1.0, 5, 6], [1.0, 5, 9], [1.0, 9, 10], [1.0, 9, 13], [1.0, 13, 14], [1.0, 13, 1], \n",
    "#     [1.0, 2, 3], [1.0, 2, 6], [1.0, 6, 7], [1.0, 6, 10], [1.0, 10, 11], [1.0, 10, 14], [1.0, 14, 15], [1.0, 14, 2], \n",
    "#     [1.0, 3, 0], [1.0, 3, 7], [1.0, 7, 4], [1.0, 7, 11], [1.0, 11, 8], [1.0, 11, 15], [1.0, 15, 12], [1.0, 15, 3]]\n",
    "\n"
   ]
  },
  {
   "cell_type": "markdown",
   "id": "38ec4b77",
   "metadata": {},
   "source": [
    "# Building the Hamiltonoperator"
   ]
  },
  {
   "cell_type": "code",
   "execution_count": 54,
   "id": "9ce88b02",
   "metadata": {},
   "outputs": [
    {
     "name": "stdout",
     "output_type": "stream",
     "text": [
      "Hermiticity check passed!\n",
      "[[ 1.   0.   0.   0.   0.   0.   0.   0.   0.   0.   0.   0.   0.   0.   0.   0. ]\n",
      " [ 0.   0.   0.5  0.   0.5  0.   0.   0.   0.   0.   0.   0.   0.   0.   0.   0. ]\n",
      " [ 0.   0.5  0.   0.   0.   0.   0.   0.   0.5  0.   0.   0.   0.   0.   0.   0. ]\n",
      " [ 0.   0.   0.   0.   0.   0.   0.5  0.   0.   0.5  0.   0.   0.   0.   0.   0. ]\n",
      " [ 0.   0.5  0.   0.   0.   0.   0.   0.   0.5  0.   0.   0.   0.   0.   0.   0. ]\n",
      " [ 0.   0.   0.   0.   0.   0.   0.5  0.   0.   0.5  0.   0.   0.   0.   0.   0. ]\n",
      " [ 0.   0.   0.   0.5  0.   0.5 -1.   0.   0.   0.   0.5  0.   0.5  0.   0.   0. ]\n",
      " [ 0.   0.   0.   0.   0.   0.   0.   0.   0.   0.   0.   0.5  0.   0.5  0.   0. ]\n",
      " [ 0.   0.   0.5  0.   0.5  0.   0.   0.   0.   0.   0.   0.   0.   0.   0.   0. ]\n",
      " [ 0.   0.   0.   0.5  0.   0.5  0.   0.   0.  -1.   0.5  0.   0.5  0.   0.   0. ]\n",
      " [ 0.   0.   0.   0.   0.   0.   0.5  0.   0.   0.5  0.   0.   0.   0.   0.   0. ]\n",
      " [ 0.   0.   0.   0.   0.   0.   0.   0.5  0.   0.   0.   0.   0.   0.   0.5  0. ]\n",
      " [ 0.   0.   0.   0.   0.   0.   0.5  0.   0.   0.5  0.   0.   0.   0.   0.   0. ]\n",
      " [ 0.   0.   0.   0.   0.   0.   0.   0.5  0.   0.   0.   0.   0.   0.   0.5  0. ]\n",
      " [ 0.   0.   0.   0.   0.   0.   0.   0.   0.   0.   0.   0.5  0.   0.5  0.   0. ]\n",
      " [ 0.   0.   0.   0.   0.   0.   0.   0.   0.   0.   0.   0.   0.   0.   0.   1. ]]\n"
     ]
    }
   ],
   "source": [
    "# define the interaction matrices\n",
    "J_zz = [[1.0/4.0 * j[0], j[1], j[2]] for j in J_ij]\n",
    "J_pm = [[chi * 1.0/4.0 * 0.5 * j[0], j[1], j[2]] for j in J_ij] \n",
    "\n",
    "# add magnetic field \n",
    "hz = np.array([hz*(-1)**(i+j) for i in range(n_x) for j in range(n_y)])\n",
    "#hz = np.array([hz for i in range(n_x) for j in range(n_y)])\n",
    "hz = hz.reshape(n_x, n_y).T\n",
    "hz = hz.reshape(-1)\n",
    "h_z = [[hz[i], i] for i in range(L)]\n",
    "\n",
    "# create full basis\n",
    "basis = spin_basis_1d(L,pauli=1)   # complete basis set\n",
    "\n",
    "# create the hamiltonian as a sparse matrix\n",
    "static = [[\"zz\", J_zz], [\"+-\", J_pm], [\"-+\", J_pm], [\"z\", h_z]]\n",
    "H_sparse = hamiltonian(static, [], basis=basis, dtype=np.float64, check_symm=False, check_pcon=False, check_herm=True).tocsr()   # Hamiltonian als sparse Matrix erstellen\n",
    "np.set_printoptions(threshold=1000,linewidth=1000)\n",
    "print(H_sparse.toarray())\n",
    "#print(H_sparse)\n",
    "\n",
    "# Create a set off S_z operators for each lattice site for measurement\n",
    "sz_ops = []\n",
    "for i in range(L):\n",
    "    sz_i = [[0.5, i]]\n",
    "    sz_i = hamiltonian([[\"z\", sz_i]], [], basis=basis, dtype=np.complex128, check_herm=False, check_pcon=False, check_symm=False)\n",
    "    sz_ops.append(sz_i)"
   ]
  },
  {
   "cell_type": "code",
   "execution_count": 55,
   "id": "24b5e371",
   "metadata": {},
   "outputs": [
    {
     "name": "stdout",
     "output_type": "stream",
     "text": [
      "[[ 1.   0.   0.   0.   0.   0.   0.   0.   0.   0.   0.   0.   0.   0.   0.   0. ]\n",
      " [ 0.   0.   0.5  0.   0.5  0.   0.   0.   0.   0.   0.   0.   0.   0.   0.   0. ]\n",
      " [ 0.   0.5  0.   0.   0.   0.   0.   0.   0.5  0.   0.   0.   0.   0.   0.   0. ]\n",
      " [ 0.   0.   0.   0.   0.   0.   0.5  0.   0.   0.5  0.   0.   0.   0.   0.   0. ]\n",
      " [ 0.   0.5  0.   0.   0.   0.   0.   0.   0.5  0.   0.   0.   0.   0.   0.   0. ]\n",
      " [ 0.   0.   0.   0.   0.   0.   0.5  0.   0.   0.5  0.   0.   0.   0.   0.   0. ]\n",
      " [ 0.   0.   0.   0.5  0.   0.5 -1.   0.   0.   0.   0.5  0.   0.5  0.   0.   0. ]\n",
      " [ 0.   0.   0.   0.   0.   0.   0.   0.   0.   0.   0.   0.5  0.   0.5  0.   0. ]\n",
      " [ 0.   0.   0.5  0.   0.5  0.   0.   0.   0.   0.   0.   0.   0.   0.   0.   0. ]\n",
      " [ 0.   0.   0.   0.5  0.   0.5  0.   0.   0.  -1.   0.5  0.   0.5  0.   0.   0. ]\n",
      " [ 0.   0.   0.   0.   0.   0.   0.5  0.   0.   0.5  0.   0.   0.   0.   0.   0. ]\n",
      " [ 0.   0.   0.   0.   0.   0.   0.   0.5  0.   0.   0.   0.   0.   0.   0.5  0. ]\n",
      " [ 0.   0.   0.   0.   0.   0.   0.5  0.   0.   0.5  0.   0.   0.   0.   0.   0. ]\n",
      " [ 0.   0.   0.   0.   0.   0.   0.   0.5  0.   0.   0.   0.   0.   0.   0.5  0. ]\n",
      " [ 0.   0.   0.   0.   0.   0.   0.   0.   0.   0.   0.   0.5  0.   0.5  0.   0. ]\n",
      " [ 0.   0.   0.   0.   0.   0.   0.   0.   0.   0.   0.   0.   0.   0.   0.   1. ]]\n"
     ]
    }
   ],
   "source": [
    "# def Hamilton_h(h):\n",
    "#     hz = np.array([h*(-1)**(i+j) for i in range(n_x) for j in range(n_y)])\n",
    "#     #hz = np.array([hz for i in range(n_x) for j in range(n_y)])\n",
    "#     hz = hz.reshape(n_x, n_y).T\n",
    "#     hz = hz.reshape(-1)\n",
    "#     h_z = [[hz[i], i] for i in range(L)]\n",
    "\n",
    "#     # create full basis\n",
    "#     basis = spin_basis_1d(L)   # complete basis set\n",
    "\n",
    "#     # create the hamiltonian as a sparse matrix\n",
    "#     static = [[\"zz\", J_zz], [\"+-\", J_pm], [\"-+\", J_pm], [\"z\", h_z]]\n",
    "#     H_sparse = hamiltonian(static, [], basis=basis, dtype=np.float64, check_symm=False, check_pcon=False, check_herm=False).tocsr()   # Hamiltonian als sparse Matrix erstellen\n",
    "#     eigenvalues, eigenvectors = eigsh(H_sparse, k=2, which='SA', tol=1e-18)   # 'SA' -> smallest algebraic eigenvalue\n",
    "#     return eigenvalues, eigenvectors\n",
    "\n",
    "# hz_list = np.linspace(0.0, 1e-3, 100)\n",
    "# eigenvalue_0_list = []\n",
    "# eigenvalue_1_list = []\n",
    "# for i, h_ in enumerate(hz_list):\n",
    "#     x, y = Hamilton_h(h_)\n",
    "#     eigenvalue_0_list.append(x[0])\n",
    "#     eigenvalue_1_list.append(x[1])\n",
    "print(H_sparse.toarray())\n"
   ]
  },
  {
   "cell_type": "code",
   "execution_count": 56,
   "id": "192fa2f5",
   "metadata": {},
   "outputs": [],
   "source": [
    "# #plt.plot(hz_list, eigenvalue_0_list, '.-r', label='Groundstate')\n",
    "# #plt.plot(hz_list, eigenvalue_1_list, '.-r', label='1st excited state')\n",
    "# plt.plot(hz_list, np.abs(np.array(eigenvalue_0_list) - np.array(eigenvalue_1_list)), '.-r', label='difference')\n",
    "# plt.legend(loc='upper right')\n",
    "# #plt.xlim(0, 0.0002)\n",
    "# #plt.ylim(0.3460, 0.3461)\n",
    "# plt.grid()\n",
    "# plt.show()\n"
   ]
  },
  {
   "cell_type": "markdown",
   "id": "421aba0c",
   "metadata": {},
   "source": [
    "# Diagonalisation"
   ]
  },
  {
   "cell_type": "code",
   "execution_count": 57,
   "id": "9dfc6863",
   "metadata": {},
   "outputs": [
    {
     "name": "stdout",
     "output_type": "stream",
     "text": [
      "Energy eigenvalues: [-2. -1. -1.]\n"
     ]
    }
   ],
   "source": [
    "# Berechnung des niedrigsten Eigenwerts und des Grundzustands-Eigenvektors:\n",
    "eigenvalues, eigenvectors = eigsh(H_sparse, k=num_eigenvalues, which='SA', tol=1e-15)   # 'SA' -> smallest algebraic eigenvalue\n",
    "\n",
    "print('Energy eigenvalues: {}'.format(eigenvalues))"
   ]
  },
  {
   "cell_type": "markdown",
   "id": "67f96667",
   "metadata": {},
   "source": [
    "### Calculating coefficients for state representation in the binary basis"
   ]
  },
  {
   "cell_type": "code",
   "execution_count": 58,
   "id": "3d59f9ba",
   "metadata": {},
   "outputs": [],
   "source": [
    "def invert_bits(state, L):\n",
    "    return state ^ (2**L - 1)\n",
    "\n",
    "def invert_bits_2(state, L):\n",
    "    bitstring = bin(state)[2:].zfill(L)\n",
    "    flipped_bitstring = ''.join('1' if b == '0' else '0' for b in bitstring)\n",
    "    number = int(flipped_bitstring, 2)\n",
    "    return number\n",
    "\n",
    "# Mapping von QuSpin -> externer Binärindex (mit invertierter Bit-Konvention)\n",
    "for k in range(num_eigenvalues):\n",
    "    psi_full = np.zeros(2**L, dtype=complex)\n",
    "    for i, state in enumerate(basis.states):\n",
    "        #print(state)\n",
    "        flipped_state = invert_bits_2(state, L)\n",
    "        #flipped_state_2 = invert_bits_2(state, L)\n",
    "        psi_full[flipped_state] = eigenvectors[i, k]\n",
    "\n",
    "    #print(np.real(psi_full))\n",
    "\n",
    "    psi_real_imag = np.column_stack((psi_full.real, psi_full.imag))\n",
    "\n",
    "    # save\n",
    "    np.savetxt(\"output/coefficients_state_{:d}.txt\".format(k), psi_real_imag, fmt=\"%.18e\", delimiter=\" \", header=\"real imag\")"
   ]
  },
  {
   "cell_type": "markdown",
   "id": "abbca916",
   "metadata": {},
   "source": [
    "# Calculating the $S_z$ expectation value"
   ]
  },
  {
   "cell_type": "code",
   "execution_count": 59,
   "id": "c6b603fc",
   "metadata": {},
   "outputs": [
    {
     "name": "stdout",
     "output_type": "stream",
     "text": [
      "Expectationvalue of S_z in state 0 with energy -2.00000000\n",
      "[[0. 0.]\n",
      " [0. 0.]]\n",
      " \n",
      "Expectationvalue of S_z in state 1 with energy -1.00000000\n",
      "[[-0.01391942 -0.01391942]\n",
      " [-0.01391942 -0.01391942]]\n",
      " \n",
      "Expectationvalue of S_z in state 2 with energy -1.00000000\n",
      "[[0.2259304 0.2259304]\n",
      " [0.2259304 0.2259304]]\n",
      " \n"
     ]
    }
   ],
   "source": [
    "for k in range(num_eigenvalues):\n",
    "\n",
    "    sz_expectation_values = np.zeros(L, dtype=np.float64)\n",
    "\n",
    "    # Erwartungswerte berechnen\n",
    "    for i, sz_i in enumerate(sz_ops):\n",
    "        sz_expectation_values[i] = np.real(sz_i.expt_value(eigenvectors[:, k])) # expectation value in the ground state\n",
    "\n",
    "    print(\"Expectationvalue of S_z in state {} with energy {:.8f}\".format(k, eigenvalues[k]))\n",
    "    print(sz_expectation_values.reshape(n_x, n_y))\n",
    "    print(\" \")"
   ]
  },
  {
   "cell_type": "code",
   "execution_count": 60,
   "id": "838d1948",
   "metadata": {},
   "outputs": [
    {
     "ename": "SystemExit",
     "evalue": "Manueller Stopp",
     "output_type": "error",
     "traceback": [
      "An exception has occurred, use %tb to see the full traceback.\n",
      "\u001b[0;31mSystemExit\u001b[0m\u001b[0;31m:\u001b[0m Manueller Stopp\n"
     ]
    }
   ],
   "source": [
    "raise SystemExit(\"Manueller Stopp\")"
   ]
  },
  {
   "cell_type": "markdown",
   "id": "f9e8f977",
   "metadata": {},
   "source": [
    "# Time Evolution"
   ]
  },
  {
   "cell_type": "code",
   "execution_count": null,
   "id": "a523be75",
   "metadata": {},
   "outputs": [
    {
     "name": "stdout",
     "output_type": "stream",
     "text": [
      "Hermiticity check passed!\n",
      "Symmetry checks passed!\n",
      "(150, 65536)\n"
     ]
    }
   ],
   "source": [
    "from quspin.operators import exp_op\n",
    "\n",
    "start, stop, N_t = 0.0, 15.0, 150\n",
    "\n",
    "# Basis\n",
    "basis = spin_basis_1d(L)\n",
    "\n",
    "# Zeitabhängiger Koeffizient\n",
    "def h_t(t, args):\n",
    "    return 1.0\n",
    "\n",
    "# Operator: sigma^x\n",
    "h_y = [[hy, i] for i in range(L)]\n",
    "\n",
    "# Hamiltonian with stationary magnetic field along y\n",
    "static = [[\"zz\", J_zz], [\"+-\", J_pm], [\"-+\", J_pm], [\"y\", h_y], [\"z\", h_z]]\n",
    "H = hamiltonian(static, [], basis=basis, dtype=np.complex128)\n",
    "\n",
    "# State at t=0\n",
    "psi_t0 = eigenvectors[:, 0]\n",
    "\n",
    "# Time evolution through time evolution Operator\n",
    "U = exp_op(H, a=-1j, start=start, stop=stop, num=N_t, iterate=True)\n",
    "\n",
    "psi_t = U.dot(psi_t0)  # create generator object to apply matrix exponential on the initial state\n",
    "\n",
    "psi_t_list = []\n",
    "for psi_i in psi_t:\n",
    "    psi_t_list.append(psi_i)\n",
    "\n",
    "psi_t_list = np.array(psi_t_list)\n",
    "print(np.shape(psi_t_list))\n",
    "\n"
   ]
  },
  {
   "cell_type": "markdown",
   "id": "99d3fe42",
   "metadata": {},
   "source": [
    "# Calculate the expectation values for every timestep"
   ]
  },
  {
   "cell_type": "code",
   "execution_count": null,
   "id": "bbb4f8ef",
   "metadata": {},
   "outputs": [],
   "source": [
    "# create all possible states in the hilbert space\n",
    "# states = basis.states  # binary representation of the states\n",
    "\n",
    "# # initialize a list to store the expectationvalues\n",
    "# sz_expectation_values_t = np.zeros((N_t, L))\n",
    "\n",
    "# # iterate over all spins\n",
    "# for t in range(N_t):\n",
    "#     for i in range(L):\n",
    "#         # iterate over all states\n",
    "#         for state_index, state in enumerate(states):\n",
    "#             spin_state = (state >> i) & 1  # extract the state of the i-th spin (0 or 1)\n",
    "#             sz_value = 0.5 if spin_state == 1 else -0.5\n",
    "            \n",
    "#             # contribution to the expectationvalue of s_z\n",
    "#             probability = psi_t_list[t, state_index]**2\n",
    "#             sz_expectation_values_t[t, i] += np.real(probability * sz_value)\n",
    "\n",
    "\n",
    "# Ergebnisarray: shape (100, 4)\n",
    "sz_expect_t = np.zeros((len(psi_t_list), L), dtype=np.float64)\n",
    "\n",
    "# Erwartungswerte berechnen\n",
    "for t_idx, psi_t in enumerate(psi_t_list):\n",
    "    for i, sz_i in enumerate(sz_ops):\n",
    "        sz_expect_t[t_idx, i] = np.real(sz_i.expt_value(psi_t))\n",
    "\n",
    "sz_expect_total_t = np.sum(sz_expect_t, axis=1)\n",
    "\n",
    "# Ergebnis anzeigen\n",
    "# print(\"Shape der Magnetisierungserwartungswerte:\", sz_expect_t.shape)\n",
    "# print(sz_expect_t)"
   ]
  },
  {
   "cell_type": "code",
   "execution_count": null,
   "id": "d78a6031",
   "metadata": {},
   "outputs": [
    {
     "data": {
      "image/png": "[encoded data removed]",
      "text/plain": [
       "<Figure size 640x480 with 1 Axes>"
      ]
     },
     "metadata": {},
     "output_type": "display_data"
    },
    {
     "data": {
      "image/png": "[encoded data removed]",
      "text/plain": [
       "<Figure size 640x480 with 1 Axes>"
      ]
     },
     "metadata": {},
     "output_type": "display_data"
    }
   ],
   "source": [
    "import matplotlib.pyplot as plt\n",
    "\n",
    "# Plot\n",
    "plt.figure()\n",
    "for i in range(L):\n",
    "    #plt.plot(np.linspace(start, stop, N_t), sz_expectation_values_t[:, i], label='Spin %d' % (i))\n",
    "    plt.plot(np.linspace(start, stop, N_t), sz_expect_t[:, i], '--')\n",
    "plt.xlabel(\"Time t\")\n",
    "plt.ylabel(r\"$\\langle S_z(t) \\rangle$\")\n",
    "#plt.legend(loc='upper right')\n",
    "plt.grid(True)\n",
    "plt.xlim(1.5, 2)\n",
    "plt.ylim(-0.01, 0.01)\n",
    "plt.show()\n",
    "\n",
    "plt.plot(np.linspace(start, stop, N_t), sz_expect_total_t, '-b')\n",
    "plt.grid()\n",
    "plt.xlabel('Time t')\n",
    "plt.ylabel('Total Magnetization m(t)')\n",
    "plt.show()"
   ]
  },
  {
   "cell_type": "code",
   "execution_count": null,
   "id": "48337b58",
   "metadata": {},
   "outputs": [
    {
     "data": {
      "text/plain": [
       "23130"
      ]
     },
     "execution_count": 455,
     "metadata": {},
     "output_type": "execute_result"
    }
   ],
   "source": []
  }
 ],
 "metadata": {
  "kernelspec": {
   "display_name": "Python 3",
   "language": "python",
   "name": "python3"
  },
  "language_info": {
   "codemirror_mode": {
    "name": "ipython",
    "version": 3
   },
   "file_extension": ".py",
   "mimetype": "text/x-python",
   "name": "python",
   "nbconvert_exporter": "python",
   "pygments_lexer": "ipython3",
   "version": "3.10.12"
  }
 },
 "nbformat": 4,
 "nbformat_minor": 5
}
